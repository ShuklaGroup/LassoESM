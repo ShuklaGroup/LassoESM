{
 "cells": [
  {
   "cell_type": "markdown",
   "id": "8425a39e-e060-4cd5-a515-25215200182b",
   "metadata": {},
   "source": [
    "# **Example notebook for predicting antimicrobial activity**"
   ]
  },
  {
   "cell_type": "markdown",
   "id": "1d949c74-d9b0-4586-a4b4-3507a259c610",
   "metadata": {},
   "source": [
    "**This example notebook demonstrates how to utilize LassoESM embeddings to predict antimicrobial activity of unbonodin variant sequences.**\n",
    "**Ubonodin dataset collected from paper \"High-Throughput Screen Reveals the Structure–Activity Relationship of the Antimicrobial Lasso Peptide Ubonodin\" ACS Cent. Sci. 2023. The unbonodin dataset is stored in the \"data\" folder.**"
   ]
  },
  {
   "cell_type": "code",
   "execution_count": 8,
   "id": "b5e7c490-605e-4b02-a6a6-33282ca31445",
   "metadata": {},
   "outputs": [],
   "source": [
    "import torch\n",
    "import torch.nn as nn\n",
    "import torch.optim as optim\n",
    "from torch.utils.data import DataLoader, TensorDataset, random_split\n",
    "import numpy as np\n",
    "import pandas as pd\n",
    "from tqdm import tqdm\n",
    "from sklearn.metrics import mean_absolute_error\n",
    "from scipy.stats import pearsonr, spearmanr\n",
    "import matplotlib.pyplot as plt"
   ]
  },
  {
   "cell_type": "markdown",
   "id": "ab1bb493-f48d-44e8-a900-e757e6f0f36e",
   "metadata": {},
   "source": [
    "**Data Loading**"
   ]
  },
  {
   "cell_type": "code",
   "execution_count": 13,
   "id": "190de618-b2bf-4ae7-9535-f69db1ca90ff",
   "metadata": {},
   "outputs": [],
   "source": [
    "# Load data\n",
    "data = pd.read_csv('../data/data_for_antimicrobial_activity_prediction/Ubonodin_full_seq_with_score.csv')    # Ubonodin dataset collected from paper \"High-Throughput Screen Reveals the Structure–Activity Relationship of the Antimicrobial Lasso Peptide Ubonodin\" ACS Cent. Sci. 2023\n",
    "Xs = np.load('../data/data_for_antimicrobial_activity_prediction/Ubonodin_embs_from_LassoESM.npy')  # LassoESM embeddings for Ubonodin dataset (remove the sequences with stop codons)\n",
    "ys = data.iloc[:, 1].values"
   ]
  },
  {
   "cell_type": "markdown",
   "id": "82d2ca56-e6e3-40f6-8ef8-2b87f3661602",
   "metadata": {},
   "source": [
    "**Process data**"
   ]
  },
  {
   "cell_type": "code",
   "execution_count": 14,
   "id": "e1b1f940-21ba-440d-9931-891a2ae3f1da",
   "metadata": {},
   "outputs": [],
   "source": [
    "# Convert data to PyTorch tensors\n",
    "X_tensor = torch.tensor(Xs, dtype=torch.float32)\n",
    "y_tensor = torch.tensor(ys, dtype=torch.float32).view(-1, 1)\n",
    "\n",
    "# Create a dataset and split into training, validation, and test sets\n",
    "dataset = TensorDataset(X_tensor, y_tensor)\n",
    "train_size = int(0.7 * len(dataset))\n",
    "val_size = int(0.15 * len(dataset))\n",
    "test_size = len(dataset) - train_size - val_size\n",
    "train_dataset, val_dataset, test_dataset = random_split(dataset, [train_size, val_size, test_size])\n",
    "\n",
    "# Create data loaders\n",
    "train_loader = DataLoader(train_dataset, batch_size=16, shuffle=True)\n",
    "val_loader = DataLoader(val_dataset, batch_size=16, shuffle=False)\n",
    "test_loader = DataLoader(test_dataset, batch_size=16, shuffle=False)"
   ]
  },
  {
   "cell_type": "markdown",
   "id": "92e69463-5bb6-420b-9354-5edfdcadbd98",
   "metadata": {},
   "source": [
    "**Define model architecture**"
   ]
  },
  {
   "cell_type": "code",
   "execution_count": 15,
   "id": "6a9e8318-d76a-4d44-b813-b365048b9086",
   "metadata": {},
   "outputs": [],
   "source": [
    "# Define the MLP model\n",
    "class MLP(nn.Module):\n",
    "    def __init__(self):\n",
    "        super(MLP, self).__init__()\n",
    "        self.hidden1 = nn.Linear(Xs.shape[1], 256)\n",
    "        self.hidden2 = nn.Linear(256, 32)\n",
    "        self.output = nn.Linear(32, 1)\n",
    "        self.relu = nn.ReLU()\n",
    "\n",
    "    def forward(self, x):\n",
    "        x = self.relu(self.hidden1(x))\n",
    "        x = self.relu(self.hidden2(x))\n",
    "        x = self.output(x)\n",
    "        return x"
   ]
  },
  {
   "cell_type": "code",
   "execution_count": 17,
   "id": "9582642b-5130-437b-b67a-37a0d3f6fcb3",
   "metadata": {},
   "outputs": [],
   "source": [
    "model = MLP()\n",
    "# Define loss function and optimizer\n",
    "criterion = nn.MSELoss()\n",
    "optimizer = optim.Adam(model.parameters(), lr=0.001)"
   ]
  },
  {
   "cell_type": "markdown",
   "id": "6ee9ab17-c9c4-464f-9cea-4bcbf5ac0001",
   "metadata": {},
   "source": [
    "**Model Training**"
   ]
  },
  {
   "cell_type": "code",
   "execution_count": 18,
   "id": "622050a8-06a4-4b0b-bc16-7264bf26c95c",
   "metadata": {},
   "outputs": [
    {
     "name": "stdout",
     "output_type": "stream",
     "text": [
      "Epoch 1, Train Loss: 10.8779, Val Loss: 8.8884\n",
      "Epoch 2, Train Loss: 8.2040, Val Loss: 6.9412\n",
      "Epoch 3, Train Loss: 6.7249, Val Loss: 5.6463\n",
      "Epoch 4, Train Loss: 6.0665, Val Loss: 5.5174\n",
      "Epoch 5, Train Loss: 5.6547, Val Loss: 5.9115\n",
      "Epoch 6, Train Loss: 5.6146, Val Loss: 5.1519\n",
      "Epoch 7, Train Loss: 5.3160, Val Loss: 5.4586\n",
      "Epoch 8, Train Loss: 5.1496, Val Loss: 4.6899\n",
      "Epoch 9, Train Loss: 5.0117, Val Loss: 4.3999\n",
      "Epoch 10, Train Loss: 4.9494, Val Loss: 4.4311\n",
      "Epoch 11, Train Loss: 4.7664, Val Loss: 4.7097\n",
      "Epoch 12, Train Loss: 4.9833, Val Loss: 4.5716\n",
      "Epoch 13, Train Loss: 4.6882, Val Loss: 4.9139\n",
      "Epoch 14, Train Loss: 4.6548, Val Loss: 4.9861\n",
      "Epoch 15, Train Loss: 4.2864, Val Loss: 4.2739\n",
      "Epoch 16, Train Loss: 4.4283, Val Loss: 5.3487\n",
      "Epoch 17, Train Loss: 4.5346, Val Loss: 4.1310\n",
      "Epoch 18, Train Loss: 4.2732, Val Loss: 4.1780\n",
      "Epoch 19, Train Loss: 4.2327, Val Loss: 5.0932\n",
      "Epoch 20, Train Loss: 4.1774, Val Loss: 3.9435\n",
      "Epoch 21, Train Loss: 4.2013, Val Loss: 3.9103\n",
      "Epoch 22, Train Loss: 4.1154, Val Loss: 3.9884\n",
      "Epoch 23, Train Loss: 4.2109, Val Loss: 4.6097\n",
      "Epoch 24, Train Loss: 4.0309, Val Loss: 3.9931\n",
      "Epoch 25, Train Loss: 4.1988, Val Loss: 4.0395\n",
      "Epoch 26, Train Loss: 4.0349, Val Loss: 4.0664\n",
      "Epoch 27, Train Loss: 3.9384, Val Loss: 3.9746\n",
      "Epoch 28, Train Loss: 3.9839, Val Loss: 4.0753\n",
      "Epoch 29, Train Loss: 3.7951, Val Loss: 4.6666\n",
      "Epoch 30, Train Loss: 3.8092, Val Loss: 3.9320\n",
      "Epoch 31, Train Loss: 3.8028, Val Loss: 4.0164\n",
      "Early stopping!\n"
     ]
    }
   ],
   "source": [
    "# Training loop with early stopping\n",
    "best_val_loss = float('inf')\n",
    "patience = 10\n",
    "trigger_times = 0\n",
    "\n",
    "for epoch in range(100):\n",
    "    model.train()\n",
    "    train_loss = 0\n",
    "    for X_batch, y_batch in train_loader:\n",
    "        optimizer.zero_grad()\n",
    "        outputs = model(X_batch)\n",
    "        loss = criterion(outputs, y_batch)\n",
    "        loss.backward()\n",
    "        optimizer.step()\n",
    "        train_loss += loss.item()\n",
    "\n",
    "    train_loss /= len(train_loader)\n",
    "    \n",
    "    model.eval()\n",
    "    val_loss = 0\n",
    "    with torch.no_grad():\n",
    "        for X_batch, y_batch in val_loader:\n",
    "            outputs = model(X_batch)\n",
    "            loss = criterion(outputs, y_batch)\n",
    "            val_loss += loss.item()\n",
    "\n",
    "    val_loss /= len(val_loader)\n",
    "\n",
    "    print(f'Epoch {epoch+1}, Train Loss: {train_loss:.4f}, Val Loss: {val_loss:.4f}')\n",
    "\n",
    "    # Early stopping\n",
    "    if val_loss < best_val_loss:\n",
    "        best_val_loss = val_loss\n",
    "        trigger_times = 0\n",
    "        # Save the best model\n",
    "        torch.save(model.state_dict(), 'best_model.pth')\n",
    "    else:\n",
    "        trigger_times += 1\n",
    "\n",
    "    if trigger_times >= patience:\n",
    "        print('Early stopping!')\n",
    "        break"
   ]
  },
  {
   "cell_type": "markdown",
   "id": "0dc8240c-0304-4677-ae24-31aa030bc6e3",
   "metadata": {},
   "source": [
    "**Model Evaluation**"
   ]
  },
  {
   "cell_type": "code",
   "execution_count": 19,
   "id": "f80415ec-bfe8-46cd-b2d8-bd6e8ac79b77",
   "metadata": {},
   "outputs": [
    {
     "name": "stdout",
     "output_type": "stream",
     "text": [
      "Mean Absolute Error: 1.5312854051589966\n",
      "Pearson Correlation: 0.7882838944659153\n",
      "Spearman Correlation: 0.7477095943453923\n"
     ]
    }
   ],
   "source": [
    "# Load the best model\n",
    "model.load_state_dict(torch.load('best_model.pth'))\n",
    "\n",
    "# Evaluate the model on the test set\n",
    "model.eval()\n",
    "test_preds = []\n",
    "test_targets = []\n",
    "\n",
    "with torch.no_grad():\n",
    "    for X_batch, y_batch in test_loader:\n",
    "        outputs = model(X_batch)\n",
    "        test_preds.extend(outputs.view(-1).cpu().numpy())\n",
    "        test_targets.extend(y_batch.view(-1).cpu().numpy())\n",
    "\n",
    "mae = mean_absolute_error(test_targets, test_preds)\n",
    "pearson_corr = pearsonr(test_targets, test_preds)[0]\n",
    "spearman_corr = spearmanr(test_targets, test_preds)[0]\n",
    "\n",
    "print(f'Mean Absolute Error: {mae}')\n",
    "print(f'Pearson Correlation: {pearson_corr}')\n",
    "print(f'Spearman Correlation: {spearman_corr}')"
   ]
  },
  {
   "cell_type": "code",
   "execution_count": null,
   "id": "e7f760c5-9a95-41c3-877e-de8056d86a2c",
   "metadata": {},
   "outputs": [],
   "source": []
  }
 ],
 "metadata": {
  "kernelspec": {
   "display_name": "Python 3 (ipykernel)",
   "language": "python",
   "name": "python3"
  },
  "language_info": {
   "codemirror_mode": {
    "name": "ipython",
    "version": 3
   },
   "file_extension": ".py",
   "mimetype": "text/x-python",
   "name": "python",
   "nbconvert_exporter": "python",
   "pygments_lexer": "ipython3",
   "version": "3.10.9"
  }
 },
 "nbformat": 4,
 "nbformat_minor": 5
}
