{
 "cells": [
  {
   "cell_type": "markdown",
   "id": "a26b8352-dfd9-4aba-9b28-f79aabd1fe89",
   "metadata": {},
   "source": [
    "# **Example notebook for predicting substrate tolerance**"
   ]
  },
  {
   "attachments": {},
   "cell_type": "markdown",
   "id": "055f311f-fcc5-4987-a0ae-fbac0c14e0ae",
   "metadata": {},
   "source": [
    "**This notebook demonstrates how to utilize LassoESM embeddings for predicting lasso peptide substrate tolerance. In this example, we use a dataset of 1,121 fusilassin variant sequences, which is stored in the \"data\" folder.**"
   ]
  },
  {
   "cell_type": "code",
   "execution_count": 1,
   "id": "fafd7f44-3b8e-4386-94ff-2376a126ec65",
   "metadata": {},
   "outputs": [],
   "source": [
    "import numpy as np\n",
    "import pandas as pd\n",
    "from sklearn.model_selection import GridSearchCV, RepeatedKFold, cross_val_score\n",
    "from sklearn.pipeline import Pipeline\n",
    "from sklearn.neighbors import KNeighborsClassifier\n",
    "from sklearn.ensemble import RandomForestClassifier, AdaBoostClassifier\n",
    "from sklearn.svm import SVC\n",
    "from sklearn.neural_network import MLPClassifier"
   ]
  },
  {
   "cell_type": "markdown",
   "id": "73071cea-421d-41cb-9d99-df9ae16cbf3c",
   "metadata": {},
   "source": [
    "**Data Loading**"
   ]
  },
  {
   "cell_type": "code",
   "execution_count": 2,
   "id": "5041aac9-934e-4a26-be70-ad4424b9d125",
   "metadata": {},
   "outputs": [],
   "source": [
    "# Load the dataset and embeddings\n",
    "# Here, we took LassoESM embeddings as an example\n",
    "data = pd.read_csv(\"../data/data_for_substrate_tolerance_prediction/FusA_tolerance_dataset.csv\")\n",
    "ys = data.iloc[:, 1].tolist()\n",
    "Xs = np.load(\"../data/data_for_substrate_tolerance_prediction/FusA_LassoESM.npy\")"
   ]
  },
  {
   "cell_type": "markdown",
   "id": "e15021b3-d3f8-478a-86bc-988ae0514613",
   "metadata": {},
   "source": [
    "**Run GridSearch**"
   ]
  },
  {
   "cell_type": "code",
   "execution_count": 3,
   "id": "c89b7c0e-4941-4d36-aea7-d76d52e5e2d8",
   "metadata": {},
   "outputs": [],
   "source": [
    "# Define Models and Hyperparameters for Grid Search\n",
    "model_list = [RandomForestClassifier, AdaBoostClassifier, SVC, MLPClassifier]\n",
    "model_names = ['RF', 'AdaBoost', 'SVC', 'MLP']\n",
    "parameters_list = [\n",
    "    {'classifier__n_estimators': [20, 50, 100, 200], 'classifier__max_depth': [10, 20, 50, 100], 'classifier__max_features': ('sqrt', 'log2')},\n",
    "    {'classifier__n_estimators': [20, 50, 100, 200], 'classifier__learning_rate': [0.1, 1, 5, 10]},\n",
    "    {'classifier__kernel': ('linear', 'rbf', 'sigmoid', 'poly'), 'classifier__C': [0.1, 1, 10]},\n",
    "    {'classifier__hidden_layer_sizes': [32, 64, 128, 256, 512, (512, 64), (256, 32), (128, 32)],\n",
    "     'classifier__batch_size': [16, 32], 'classifier__learning_rate_init': [0.01, 0.001],\n",
    "     'classifier__max_iter': [1000], 'classifier__early_stopping': [True]},\n",
    "]"
   ]
  },
  {
   "cell_type": "code",
   "execution_count": 4,
   "id": "a334013e-87aa-46da-a702-4b9685014aee",
   "metadata": {},
   "outputs": [
    {
     "name": "stdout",
     "output_type": "stream",
     "text": [
      "Best parameters for RF: {'max_depth': 10, 'max_features': 'sqrt', 'n_estimators': 50}\n",
      "Best model for RF: Pipeline(steps=[('classifier',\n",
      "                 RandomForestClassifier(max_depth=10, n_estimators=50))])\n",
      "Best parameters for AdaBoost: {'learning_rate': 0.1, 'n_estimators': 100}\n",
      "Best model for AdaBoost: Pipeline(steps=[('classifier',\n",
      "                 AdaBoostClassifier(learning_rate=0.1, n_estimators=100))])\n",
      "Best parameters for SVC: {'C': 1, 'kernel': 'linear'}\n",
      "Best model for SVC: Pipeline(steps=[('classifier', SVC(C=1, kernel='linear'))])\n",
      "Best parameters for MLP: {'batch_size': 32, 'early_stopping': True, 'hidden_layer_sizes': (256, 32), 'learning_rate_init': 0.001, 'max_iter': 1000}\n",
      "Best model for MLP: Pipeline(steps=[('classifier',\n",
      "                 MLPClassifier(batch_size=32, early_stopping=True,\n",
      "                               hidden_layer_sizes=(256, 32), max_iter=1000))])\n"
     ]
    }
   ],
   "source": [
    "best_params = {}\n",
    "# Perform Grid Search for Each Model\n",
    "for model, name, parameters in zip(model_list, model_names, parameters_list):\n",
    "    steps = [('classifier', model())]\n",
    "    pipeline = Pipeline(steps)\n",
    "    grid_search = GridSearchCV(pipeline, parameters, n_jobs = -1, cv=10, scoring='balanced_accuracy')\n",
    "    grid_search.fit(Xs, ys)\n",
    "    \n",
    "    best_params[name] = {k.replace('classifier__', ''): v for k, v in grid_search.best_params_.items()}\n",
    "    print(f'Best parameters for {name}: {best_params[name]}')\n",
    "    print(f'Best model for {name}: {grid_search.best_estimator_}')"
   ]
  },
  {
   "cell_type": "markdown",
   "id": "3185fea2-e69d-4888-81f5-bcf35c296b3d",
   "metadata": {},
   "source": [
    "**Model Evaluation**"
   ]
  },
  {
   "cell_type": "code",
   "execution_count": 5,
   "id": "3d807e17-083d-40cd-9a44-458c97b6ee78",
   "metadata": {},
   "outputs": [],
   "source": [
    "# Define Function for Model Evaluation\n",
    "def cv_res(Xs, ys, best_params):\n",
    "    random_seed = 42  \n",
    "    \n",
    "    RF = RandomForestClassifier(**best_params['RF'], random_state=random_seed)\n",
    "    Ada = AdaBoostClassifier(**best_params['AdaBoost'], random_state=random_seed)\n",
    "    SVM = SVC(**best_params['SVC'], random_state=random_seed)\n",
    "    MLP = MLPClassifier(**best_params['MLP'], random_state=random_seed)\n",
    "\n",
    "    cv = RepeatedKFold(n_splits=10, n_repeats=5, random_state=random_seed)\n",
    "    MLP_CV = cross_val_score(MLP, Xs, ys, cv=cv, n_jobs=-1, scoring='balanced_accuracy')\n",
    "    RF_CV = cross_val_score(RF, Xs, ys, cv=cv, n_jobs=-1, scoring='balanced_accuracy')\n",
    "    Ada_CV = cross_val_score(Ada, Xs, ys, cv=cv, n_jobs=-1, scoring='balanced_accuracy')\n",
    "    SVC_CV = cross_val_score(SVM, Xs, ys, cv=cv, n_jobs=-1, scoring='balanced_accuracy')\n",
    "\n",
    "    cv_res = {\n",
    "        'RF': np.mean(RF_CV.reshape(-1, 10), axis=1),\n",
    "        'AdaBoost': np.mean(Ada_CV.reshape(-1, 10), axis=1),\n",
    "        'SVC': np.mean(SVC_CV.reshape(-1, 10), axis=1),\n",
    "        'MLP': np.mean(MLP_CV.reshape(-1, 10), axis=1)\n",
    "    }\n",
    "    \n",
    "    return cv_res"
   ]
  },
  {
   "cell_type": "code",
   "execution_count": 6,
   "id": "d3df254b-3e6f-4470-929f-534843adb3d7",
   "metadata": {},
   "outputs": [
    {
     "name": "stdout",
     "output_type": "stream",
     "text": [
      "Evaluation Done\n"
     ]
    }
   ],
   "source": [
    "# Model Evaluation\n",
    "if __name__ == '__main__':\n",
    "    res_LassoESM = cv_res(Xs, ys, best_params)\n",
    "    print('Evaluation Done')\n",
    "    \n",
    "    LassoESM = pd.DataFrame(res_LassoESM)\n",
    "    LassoESM['Model'] = 'Lasso_ESM'"
   ]
  },
  {
   "cell_type": "code",
   "execution_count": 7,
   "id": "2dceac49-3540-4679-88ee-bb47321c6f79",
   "metadata": {},
   "outputs": [
    {
     "name": "stdout",
     "output_type": "stream",
     "text": [
      "         RF  AdaBoost       SVC       MLP      Model\n",
      "0  0.719914  0.728364  0.738522  0.720585  Lasso_ESM\n",
      "1  0.725885  0.732725  0.734655  0.718578  Lasso_ESM\n",
      "2  0.725690  0.723805  0.732975  0.720056  Lasso_ESM\n",
      "3  0.731835  0.737689  0.738182  0.715817  Lasso_ESM\n",
      "4  0.728194  0.740278  0.742119  0.710994  Lasso_ESM\n"
     ]
    }
   ],
   "source": [
    "print(LassoESM)"
   ]
  },
  {
   "cell_type": "code",
   "execution_count": null,
   "id": "1c33bf31-bf88-4a4b-92a8-85602729dd80",
   "metadata": {},
   "outputs": [],
   "source": []
  }
 ],
 "metadata": {
  "kernelspec": {
   "display_name": "Python 3 (ipykernel)",
   "language": "python",
   "name": "python3"
  },
  "language_info": {
   "codemirror_mode": {
    "name": "ipython",
    "version": 3
   },
   "file_extension": ".py",
   "mimetype": "text/x-python",
   "name": "python",
   "nbconvert_exporter": "python",
   "pygments_lexer": "ipython3",
   "version": "3.10.9"
  }
 },
 "nbformat": 4,
 "nbformat_minor": 5
}
